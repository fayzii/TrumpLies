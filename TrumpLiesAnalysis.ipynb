{
  "nbformat": 4,
  "nbformat_minor": 0,
  "metadata": {
    "colab": {
      "name": "TrumpLiesAnalysis.ipynb",
      "version": "0.3.2",
      "provenance": []
    },
    "kernelspec": {
      "name": "python3",
      "display_name": "Python 3"
    }
  },
  "cells": [
    {
      "metadata": {
        "id": "hZlEaPDZTT-D",
        "colab_type": "code",
        "colab": {}
      },
      "cell_type": "code",
      "source": [
        "import requests  \n",
        "r = requests.get('https://www.nytimes.com/interactive/2017/06/23/opinion/trumps-lies.html')\n",
        "\n",
        "from bs4 import BeautifulSoup  \n",
        "soup = BeautifulSoup(r.text, 'html.parser')  \n",
        "results = soup.find_all('span', attrs={'class':'short-desc'})\n",
        "\n",
        "records = []  \n",
        "for result in results:  \n",
        "    date = result.find('strong').text[0:-1] + ', 2017'\n",
        "    lie = result.contents[1][1:-2]\n",
        "    explanation = result.find('a').text[1:-1]\n",
        "    url = result.find('a')['href']\n",
        "    records.append((date, lie, explanation, url))\n",
        "\n",
        "import pandas as pd  \n",
        "df = pd.DataFrame(records, columns=['date', 'lie', 'explanation', 'url'])  \n",
        "df['date'] = pd.to_datetime(df['date'])  \n",
        "df.to_csv('trump_lies.csv', index=False, encoding='utf-8')  "
      ],
      "execution_count": 0,
      "outputs": []
    },
    {
      "metadata": {
        "id": "WPx-QrI2Tduq",
        "colab_type": "code",
        "colab": {
          "base_uri": "https://localhost:8080/",
          "height": 204
        },
        "outputId": "5829b531-de46-4a30-c663-d0dfdb6d97da"
      },
      "cell_type": "code",
      "source": [
        "data=pd.read_csv('trump_lies.csv')\n",
        "newdata=pd.DataFrame(data)\n",
        "newdata.head()\n"
      ],
      "execution_count": 2,
      "outputs": [
        {
          "output_type": "execute_result",
          "data": {
            "text/html": [
              "<div>\n",
              "<style scoped>\n",
              "    .dataframe tbody tr th:only-of-type {\n",
              "        vertical-align: middle;\n",
              "    }\n",
              "\n",
              "    .dataframe tbody tr th {\n",
              "        vertical-align: top;\n",
              "    }\n",
              "\n",
              "    .dataframe thead th {\n",
              "        text-align: right;\n",
              "    }\n",
              "</style>\n",
              "<table border=\"1\" class=\"dataframe\">\n",
              "  <thead>\n",
              "    <tr style=\"text-align: right;\">\n",
              "      <th></th>\n",
              "      <th>date</th>\n",
              "      <th>lie</th>\n",
              "      <th>explanation</th>\n",
              "      <th>url</th>\n",
              "    </tr>\n",
              "  </thead>\n",
              "  <tbody>\n",
              "    <tr>\n",
              "      <th>0</th>\n",
              "      <td>2017-01-21</td>\n",
              "      <td>I wasn't a fan of Iraq. I didn't want to go in...</td>\n",
              "      <td>He was for an invasion before he was against it.</td>\n",
              "      <td>https://www.buzzfeed.com/andrewkaczynski/in-20...</td>\n",
              "    </tr>\n",
              "    <tr>\n",
              "      <th>1</th>\n",
              "      <td>2017-01-21</td>\n",
              "      <td>A reporter for Time magazine — and I have been...</td>\n",
              "      <td>Trump was on the cover 11 times and Nixon appe...</td>\n",
              "      <td>http://nation.time.com/2013/11/06/10-things-yo...</td>\n",
              "    </tr>\n",
              "    <tr>\n",
              "      <th>2</th>\n",
              "      <td>2017-01-23</td>\n",
              "      <td>Between 3 million and 5 million illegal votes ...</td>\n",
              "      <td>There's no evidence of illegal voting.</td>\n",
              "      <td>https://www.nytimes.com/2017/01/23/us/politics...</td>\n",
              "    </tr>\n",
              "    <tr>\n",
              "      <th>3</th>\n",
              "      <td>2017-01-25</td>\n",
              "      <td>Now, the audience was the biggest ever. But th...</td>\n",
              "      <td>Official aerial photos show Obama's 2009 inaug...</td>\n",
              "      <td>https://www.nytimes.com/2017/01/21/us/politics...</td>\n",
              "    </tr>\n",
              "    <tr>\n",
              "      <th>4</th>\n",
              "      <td>2017-01-25</td>\n",
              "      <td>Take a look at the Pew reports (which show vot...</td>\n",
              "      <td>The report never mentioned voter fraud.</td>\n",
              "      <td>https://www.nytimes.com/2017/01/24/us/politics...</td>\n",
              "    </tr>\n",
              "  </tbody>\n",
              "</table>\n",
              "</div>"
            ],
            "text/plain": [
              "         date                                                lie  \\\n",
              "0  2017-01-21  I wasn't a fan of Iraq. I didn't want to go in...   \n",
              "1  2017-01-21  A reporter for Time magazine — and I have been...   \n",
              "2  2017-01-23  Between 3 million and 5 million illegal votes ...   \n",
              "3  2017-01-25  Now, the audience was the biggest ever. But th...   \n",
              "4  2017-01-25  Take a look at the Pew reports (which show vot...   \n",
              "\n",
              "                                         explanation  \\\n",
              "0   He was for an invasion before he was against it.   \n",
              "1  Trump was on the cover 11 times and Nixon appe...   \n",
              "2             There's no evidence of illegal voting.   \n",
              "3  Official aerial photos show Obama's 2009 inaug...   \n",
              "4            The report never mentioned voter fraud.   \n",
              "\n",
              "                                                 url  \n",
              "0  https://www.buzzfeed.com/andrewkaczynski/in-20...  \n",
              "1  http://nation.time.com/2013/11/06/10-things-yo...  \n",
              "2  https://www.nytimes.com/2017/01/23/us/politics...  \n",
              "3  https://www.nytimes.com/2017/01/21/us/politics...  \n",
              "4  https://www.nytimes.com/2017/01/24/us/politics...  "
            ]
          },
          "metadata": {
            "tags": []
          },
          "execution_count": 2
        }
      ]
    },
    {
      "metadata": {
        "id": "d1W8iJQ1UtIx",
        "colab_type": "code",
        "colab": {
          "base_uri": "https://localhost:8080/",
          "height": 34
        },
        "outputId": "a59b3ff7-9250-4eb6-f677-31b472adb601"
      },
      "cell_type": "code",
      "source": [
        "newdata.shape"
      ],
      "execution_count": 4,
      "outputs": [
        {
          "output_type": "execute_result",
          "data": {
            "text/plain": [
              "(180, 4)"
            ]
          },
          "metadata": {
            "tags": []
          },
          "execution_count": 4
        }
      ]
    },
    {
      "metadata": {
        "id": "VFEB_PnMU3Rh",
        "colab_type": "code",
        "colab": {
          "base_uri": "https://localhost:8080/",
          "height": 674
        },
        "outputId": "15d0cc71-2f84-49da-9984-93b788b90433"
      },
      "cell_type": "code",
      "source": [
        "import matplotlib.pyplot as plt\n",
        "# import plotly and offline mode\n",
        "#from plotly.offline import iplot, init_notebook_mode\n",
        "#import plotly.graph_objs as go\n",
        "#!pip install cufflinks\n",
        "#!pip install plotly\n",
        "# import cufflinks and offline mode\n",
        "#import cufflinks as cf\n",
        "#cf.go_offline()\n",
        "\n",
        "% matplotlib inline\n",
        "import seaborn as sns\n",
        "sns.set(style=\"darkgrid\")\n",
        "plt.figure(figsize=(20,10))\n",
        "sns.countplot(x=pd.DatetimeIndex(newdata['date']).month,data=newdata)\n",
        "plt.show()"
      ],
      "execution_count": 19,
      "outputs": [
        {
          "output_type": "stream",
          "text": [
            "/usr/local/lib/python3.6/dist-packages/seaborn/categorical.py:1428: FutureWarning:\n",
            "\n",
            "remove_na is deprecated and is a private function. Do not use.\n",
            "\n"
          ],
          "name": "stderr"
        },
        {
          "output_type": "display_data",
          "data": {
            "image/png": "[encoded data removed]",
            "text/plain": [
              "<matplotlib.figure.Figure at 0x7fc25f8557f0>"
            ]
          },
          "metadata": {
            "tags": []
          }
        }
      ]
    }
  ]
}